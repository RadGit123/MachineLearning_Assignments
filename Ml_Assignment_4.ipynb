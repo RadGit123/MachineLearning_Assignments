{
 "cells": [
  {
   "cell_type": "markdown",
   "id": "2b661509-b08a-41b0-ba76-135b33b92169",
   "metadata": {},
   "source": [
    "#CLASSIFICATION"
   ]
  },
  {
   "cell_type": "code",
   "execution_count": 1,
   "id": "56e201e5-cbaa-43e3-90b3-90c9f3c02a88",
   "metadata": {},
   "outputs": [
    {
     "data": {
      "text/html": [
       "<div>\n",
       "<style scoped>\n",
       "    .dataframe tbody tr th:only-of-type {\n",
       "        vertical-align: middle;\n",
       "    }\n",
       "\n",
       "    .dataframe tbody tr th {\n",
       "        vertical-align: top;\n",
       "    }\n",
       "\n",
       "    .dataframe thead th {\n",
       "        text-align: right;\n",
       "    }\n",
       "</style>\n",
       "<table border=\"1\" class=\"dataframe\">\n",
       "  <thead>\n",
       "    <tr style=\"text-align: right;\">\n",
       "      <th></th>\n",
       "      <th>mean radius</th>\n",
       "      <th>mean texture</th>\n",
       "      <th>mean perimeter</th>\n",
       "      <th>mean area</th>\n",
       "      <th>mean smoothness</th>\n",
       "      <th>mean compactness</th>\n",
       "      <th>mean concavity</th>\n",
       "      <th>mean concave points</th>\n",
       "      <th>mean symmetry</th>\n",
       "      <th>mean fractal dimension</th>\n",
       "      <th>...</th>\n",
       "      <th>worst texture</th>\n",
       "      <th>worst perimeter</th>\n",
       "      <th>worst area</th>\n",
       "      <th>worst smoothness</th>\n",
       "      <th>worst compactness</th>\n",
       "      <th>worst concavity</th>\n",
       "      <th>worst concave points</th>\n",
       "      <th>worst symmetry</th>\n",
       "      <th>worst fractal dimension</th>\n",
       "      <th>target</th>\n",
       "    </tr>\n",
       "  </thead>\n",
       "  <tbody>\n",
       "    <tr>\n",
       "      <th>0</th>\n",
       "      <td>17.99</td>\n",
       "      <td>10.38</td>\n",
       "      <td>122.80</td>\n",
       "      <td>1001.0</td>\n",
       "      <td>0.11840</td>\n",
       "      <td>0.27760</td>\n",
       "      <td>0.3001</td>\n",
       "      <td>0.14710</td>\n",
       "      <td>0.2419</td>\n",
       "      <td>0.07871</td>\n",
       "      <td>...</td>\n",
       "      <td>17.33</td>\n",
       "      <td>184.60</td>\n",
       "      <td>2019.0</td>\n",
       "      <td>0.1622</td>\n",
       "      <td>0.6656</td>\n",
       "      <td>0.7119</td>\n",
       "      <td>0.2654</td>\n",
       "      <td>0.4601</td>\n",
       "      <td>0.11890</td>\n",
       "      <td>0</td>\n",
       "    </tr>\n",
       "    <tr>\n",
       "      <th>1</th>\n",
       "      <td>20.57</td>\n",
       "      <td>17.77</td>\n",
       "      <td>132.90</td>\n",
       "      <td>1326.0</td>\n",
       "      <td>0.08474</td>\n",
       "      <td>0.07864</td>\n",
       "      <td>0.0869</td>\n",
       "      <td>0.07017</td>\n",
       "      <td>0.1812</td>\n",
       "      <td>0.05667</td>\n",
       "      <td>...</td>\n",
       "      <td>23.41</td>\n",
       "      <td>158.80</td>\n",
       "      <td>1956.0</td>\n",
       "      <td>0.1238</td>\n",
       "      <td>0.1866</td>\n",
       "      <td>0.2416</td>\n",
       "      <td>0.1860</td>\n",
       "      <td>0.2750</td>\n",
       "      <td>0.08902</td>\n",
       "      <td>0</td>\n",
       "    </tr>\n",
       "    <tr>\n",
       "      <th>2</th>\n",
       "      <td>19.69</td>\n",
       "      <td>21.25</td>\n",
       "      <td>130.00</td>\n",
       "      <td>1203.0</td>\n",
       "      <td>0.10960</td>\n",
       "      <td>0.15990</td>\n",
       "      <td>0.1974</td>\n",
       "      <td>0.12790</td>\n",
       "      <td>0.2069</td>\n",
       "      <td>0.05999</td>\n",
       "      <td>...</td>\n",
       "      <td>25.53</td>\n",
       "      <td>152.50</td>\n",
       "      <td>1709.0</td>\n",
       "      <td>0.1444</td>\n",
       "      <td>0.4245</td>\n",
       "      <td>0.4504</td>\n",
       "      <td>0.2430</td>\n",
       "      <td>0.3613</td>\n",
       "      <td>0.08758</td>\n",
       "      <td>0</td>\n",
       "    </tr>\n",
       "    <tr>\n",
       "      <th>3</th>\n",
       "      <td>11.42</td>\n",
       "      <td>20.38</td>\n",
       "      <td>77.58</td>\n",
       "      <td>386.1</td>\n",
       "      <td>0.14250</td>\n",
       "      <td>0.28390</td>\n",
       "      <td>0.2414</td>\n",
       "      <td>0.10520</td>\n",
       "      <td>0.2597</td>\n",
       "      <td>0.09744</td>\n",
       "      <td>...</td>\n",
       "      <td>26.50</td>\n",
       "      <td>98.87</td>\n",
       "      <td>567.7</td>\n",
       "      <td>0.2098</td>\n",
       "      <td>0.8663</td>\n",
       "      <td>0.6869</td>\n",
       "      <td>0.2575</td>\n",
       "      <td>0.6638</td>\n",
       "      <td>0.17300</td>\n",
       "      <td>0</td>\n",
       "    </tr>\n",
       "    <tr>\n",
       "      <th>4</th>\n",
       "      <td>20.29</td>\n",
       "      <td>14.34</td>\n",
       "      <td>135.10</td>\n",
       "      <td>1297.0</td>\n",
       "      <td>0.10030</td>\n",
       "      <td>0.13280</td>\n",
       "      <td>0.1980</td>\n",
       "      <td>0.10430</td>\n",
       "      <td>0.1809</td>\n",
       "      <td>0.05883</td>\n",
       "      <td>...</td>\n",
       "      <td>16.67</td>\n",
       "      <td>152.20</td>\n",
       "      <td>1575.0</td>\n",
       "      <td>0.1374</td>\n",
       "      <td>0.2050</td>\n",
       "      <td>0.4000</td>\n",
       "      <td>0.1625</td>\n",
       "      <td>0.2364</td>\n",
       "      <td>0.07678</td>\n",
       "      <td>0</td>\n",
       "    </tr>\n",
       "  </tbody>\n",
       "</table>\n",
       "<p>5 rows × 31 columns</p>\n",
       "</div>"
      ],
      "text/plain": [
       "   mean radius  mean texture  mean perimeter  mean area  mean smoothness  \\\n",
       "0        17.99         10.38          122.80     1001.0          0.11840   \n",
       "1        20.57         17.77          132.90     1326.0          0.08474   \n",
       "2        19.69         21.25          130.00     1203.0          0.10960   \n",
       "3        11.42         20.38           77.58      386.1          0.14250   \n",
       "4        20.29         14.34          135.10     1297.0          0.10030   \n",
       "\n",
       "   mean compactness  mean concavity  mean concave points  mean symmetry  \\\n",
       "0           0.27760          0.3001              0.14710         0.2419   \n",
       "1           0.07864          0.0869              0.07017         0.1812   \n",
       "2           0.15990          0.1974              0.12790         0.2069   \n",
       "3           0.28390          0.2414              0.10520         0.2597   \n",
       "4           0.13280          0.1980              0.10430         0.1809   \n",
       "\n",
       "   mean fractal dimension  ...  worst texture  worst perimeter  worst area  \\\n",
       "0                 0.07871  ...          17.33           184.60      2019.0   \n",
       "1                 0.05667  ...          23.41           158.80      1956.0   \n",
       "2                 0.05999  ...          25.53           152.50      1709.0   \n",
       "3                 0.09744  ...          26.50            98.87       567.7   \n",
       "4                 0.05883  ...          16.67           152.20      1575.0   \n",
       "\n",
       "   worst smoothness  worst compactness  worst concavity  worst concave points  \\\n",
       "0            0.1622             0.6656           0.7119                0.2654   \n",
       "1            0.1238             0.1866           0.2416                0.1860   \n",
       "2            0.1444             0.4245           0.4504                0.2430   \n",
       "3            0.2098             0.8663           0.6869                0.2575   \n",
       "4            0.1374             0.2050           0.4000                0.1625   \n",
       "\n",
       "   worst symmetry  worst fractal dimension  target  \n",
       "0          0.4601                  0.11890       0  \n",
       "1          0.2750                  0.08902       0  \n",
       "2          0.3613                  0.08758       0  \n",
       "3          0.6638                  0.17300       0  \n",
       "4          0.2364                  0.07678       0  \n",
       "\n",
       "[5 rows x 31 columns]"
      ]
     },
     "execution_count": 1,
     "metadata": {},
     "output_type": "execute_result"
    }
   ],
   "source": [
    "from sklearn.datasets import load_breast_cancer\n",
    "import pandas as pd\n",
    "data = load_breast_cancer()\n",
    "\n",
    "df = pd.DataFrame(data.data, columns=data.feature_names)\n",
    "df['target'] = data.target\n",
    "df.head()"
   ]
  },
  {
   "cell_type": "code",
   "execution_count": 2,
   "id": "699ad767-4d0f-4990-85de-453e23dc9198",
   "metadata": {
    "scrolled": true
   },
   "outputs": [
    {
     "data": {
      "text/plain": [
       "mean radius                0\n",
       "mean texture               0\n",
       "mean perimeter             0\n",
       "mean area                  0\n",
       "mean smoothness            0\n",
       "mean compactness           0\n",
       "mean concavity             0\n",
       "mean concave points        0\n",
       "mean symmetry              0\n",
       "mean fractal dimension     0\n",
       "radius error               0\n",
       "texture error              0\n",
       "perimeter error            0\n",
       "area error                 0\n",
       "smoothness error           0\n",
       "compactness error          0\n",
       "concavity error            0\n",
       "concave points error       0\n",
       "symmetry error             0\n",
       "fractal dimension error    0\n",
       "worst radius               0\n",
       "worst texture              0\n",
       "worst perimeter            0\n",
       "worst area                 0\n",
       "worst smoothness           0\n",
       "worst compactness          0\n",
       "worst concavity            0\n",
       "worst concave points       0\n",
       "worst symmetry             0\n",
       "worst fractal dimension    0\n",
       "target                     0\n",
       "dtype: int64"
      ]
     },
     "execution_count": 2,
     "metadata": {},
     "output_type": "execute_result"
    }
   ],
   "source": [
    "df.isnull().sum()"
   ]
  },
  {
   "cell_type": "markdown",
   "id": "11abdde4-041e-436d-a862-9cc47b9b707b",
   "metadata": {},
   "source": [
    " # Correlation of each feature with the target"
   ]
  },
  {
   "cell_type": "code",
   "execution_count": 4,
   "id": "eb8b1b4b-e7fd-45e4-a6bd-92a5a89258a9",
   "metadata": {},
   "outputs": [
    {
     "name": "stdout",
     "output_type": "stream",
     "text": [
      "target                     1.000000\n",
      "worst concave points       0.793566\n",
      "worst perimeter            0.782914\n",
      "mean concave points        0.776614\n",
      "worst radius               0.776454\n",
      "mean perimeter             0.742636\n",
      "worst area                 0.733825\n",
      "mean radius                0.730029\n",
      "mean area                  0.708984\n",
      "mean concavity             0.696360\n",
      "worst concavity            0.659610\n",
      "mean compactness           0.596534\n",
      "worst compactness          0.590998\n",
      "radius error               0.567134\n",
      "perimeter error            0.556141\n",
      "area error                 0.548236\n",
      "worst texture              0.456903\n",
      "worst smoothness           0.421465\n",
      "worst symmetry             0.416294\n",
      "mean texture               0.415185\n",
      "concave points error       0.408042\n",
      "mean smoothness            0.358560\n",
      "mean symmetry              0.330499\n",
      "worst fractal dimension    0.323872\n",
      "compactness error          0.292999\n",
      "concavity error            0.253730\n",
      "fractal dimension error    0.077972\n",
      "smoothness error           0.067016\n",
      "mean fractal dimension     0.012838\n",
      "texture error              0.008303\n",
      "symmetry error             0.006522\n",
      "Name: target, dtype: float64\n"
     ]
    }
   ],
   "source": [
    "correlation_with_target = df.corr()['target'].abs().sort_values(ascending=False)\n",
    "print(correlation_with_target)"
   ]
  },
  {
   "cell_type": "code",
   "execution_count": 5,
   "id": "ac1e5b57-3731-403d-9387-4fab2d23f39d",
   "metadata": {},
   "outputs": [
    {
     "name": "stdout",
     "output_type": "stream",
     "text": [
      "Index(['worst concave points', 'worst perimeter', 'mean concave points',\n",
      "       'worst radius', 'mean perimeter', 'worst area', 'mean radius',\n",
      "       'mean area', 'mean concavity', 'worst concavity'],\n",
      "      dtype='object')\n"
     ]
    }
   ],
   "source": [
    "top_features = correlation_with_target[1:11].index  # skip 'target' itself\n",
    "print(top_features)"
   ]
  },
  {
   "cell_type": "code",
   "execution_count": 7,
   "id": "cdcd258e-1d06-476b-8c1b-8a3952a800c8",
   "metadata": {},
   "outputs": [],
   "source": [
    "X = df[top_features]\n",
    "y = df['target']"
   ]
  },
  {
   "cell_type": "code",
   "execution_count": 33,
   "id": "06f10410-7b68-4c30-9837-f20f8ef5e58e",
   "metadata": {},
   "outputs": [
    {
     "name": "stdout",
     "output_type": "stream",
     "text": [
      "['malignant' 'benign']\n"
     ]
    }
   ],
   "source": [
    "print(data.target_names)"
   ]
  },
  {
   "cell_type": "code",
   "execution_count": 76,
   "id": "3c604f1a-5a87-4e35-bf67-f9d08d3b0bac",
   "metadata": {},
   "outputs": [
    {
     "name": "stdout",
     "output_type": "stream",
     "text": [
      "[0 1]\n"
     ]
    }
   ],
   "source": [
    "print(np.unique(y))  "
   ]
  },
  {
   "cell_type": "code",
   "execution_count": 79,
   "id": "c00e9e95-d75e-4d4f-89fc-f46ce3860726",
   "metadata": {},
   "outputs": [
    {
     "name": "stdout",
     "output_type": "stream",
     "text": [
      "target\n",
      "1    357\n",
      "0    212\n",
      "Name: count, dtype: int64\n"
     ]
    }
   ],
   "source": [
    "print(df['target'].value_counts())  # the data set is unbalanced."
   ]
  },
  {
   "cell_type": "code",
   "execution_count": 19,
   "id": "09af20ea-d8a4-4d1e-9671-647934e47eb8",
   "metadata": {},
   "outputs": [],
   "source": [
    "from sklearn.preprocessing import StandardScaler\n",
    "scaler = StandardScaler()\n",
    "X_scaled = scaler.fit_transform(X)"
   ]
  },
  {
   "cell_type": "code",
   "execution_count": 20,
   "id": "96a078e0-5e4d-4e31-8d05-0dfad037daa4",
   "metadata": {},
   "outputs": [],
   "source": [
    "from sklearn.model_selection import train_test_split\n",
    "X_train, X_test, y_train, y_test = train_test_split(X_scaled, y, test_size=0.2, random_state=42)\n"
   ]
  },
  {
   "cell_type": "markdown",
   "id": "ac18ada8-9078-4f81-a237-0382395e377b",
   "metadata": {},
   "source": [
    "# LOGISTIC REGRESSION"
   ]
  },
  {
   "cell_type": "code",
   "execution_count": 35,
   "id": "d2a4f149-66c1-48bf-a967-17d3eeb6f568",
   "metadata": {},
   "outputs": [
    {
     "data": {
      "text/html": [
       "<style>#sk-container-id-1 {\n",
       "  /* Definition of color scheme common for light and dark mode */\n",
       "  --sklearn-color-text: black;\n",
       "  --sklearn-color-line: gray;\n",
       "  /* Definition of color scheme for unfitted estimators */\n",
       "  --sklearn-color-unfitted-level-0: #fff5e6;\n",
       "  --sklearn-color-unfitted-level-1: #f6e4d2;\n",
       "  --sklearn-color-unfitted-level-2: #ffe0b3;\n",
       "  --sklearn-color-unfitted-level-3: chocolate;\n",
       "  /* Definition of color scheme for fitted estimators */\n",
       "  --sklearn-color-fitted-level-0: #f0f8ff;\n",
       "  --sklearn-color-fitted-level-1: #d4ebff;\n",
       "  --sklearn-color-fitted-level-2: #b3dbfd;\n",
       "  --sklearn-color-fitted-level-3: cornflowerblue;\n",
       "\n",
       "  /* Specific color for light theme */\n",
       "  --sklearn-color-text-on-default-background: var(--sg-text-color, var(--theme-code-foreground, var(--jp-content-font-color1, black)));\n",
       "  --sklearn-color-background: var(--sg-background-color, var(--theme-background, var(--jp-layout-color0, white)));\n",
       "  --sklearn-color-border-box: var(--sg-text-color, var(--theme-code-foreground, var(--jp-content-font-color1, black)));\n",
       "  --sklearn-color-icon: #696969;\n",
       "\n",
       "  @media (prefers-color-scheme: dark) {\n",
       "    /* Redefinition of color scheme for dark theme */\n",
       "    --sklearn-color-text-on-default-background: var(--sg-text-color, var(--theme-code-foreground, var(--jp-content-font-color1, white)));\n",
       "    --sklearn-color-background: var(--sg-background-color, var(--theme-background, var(--jp-layout-color0, #111)));\n",
       "    --sklearn-color-border-box: var(--sg-text-color, var(--theme-code-foreground, var(--jp-content-font-color1, white)));\n",
       "    --sklearn-color-icon: #878787;\n",
       "  }\n",
       "}\n",
       "\n",
       "#sk-container-id-1 {\n",
       "  color: var(--sklearn-color-text);\n",
       "}\n",
       "\n",
       "#sk-container-id-1 pre {\n",
       "  padding: 0;\n",
       "}\n",
       "\n",
       "#sk-container-id-1 input.sk-hidden--visually {\n",
       "  border: 0;\n",
       "  clip: rect(1px 1px 1px 1px);\n",
       "  clip: rect(1px, 1px, 1px, 1px);\n",
       "  height: 1px;\n",
       "  margin: -1px;\n",
       "  overflow: hidden;\n",
       "  padding: 0;\n",
       "  position: absolute;\n",
       "  width: 1px;\n",
       "}\n",
       "\n",
       "#sk-container-id-1 div.sk-dashed-wrapped {\n",
       "  border: 1px dashed var(--sklearn-color-line);\n",
       "  margin: 0 0.4em 0.5em 0.4em;\n",
       "  box-sizing: border-box;\n",
       "  padding-bottom: 0.4em;\n",
       "  background-color: var(--sklearn-color-background);\n",
       "}\n",
       "\n",
       "#sk-container-id-1 div.sk-container {\n",
       "  /* jupyter's `normalize.less` sets `[hidden] { display: none; }`\n",
       "     but bootstrap.min.css set `[hidden] { display: none !important; }`\n",
       "     so we also need the `!important` here to be able to override the\n",
       "     default hidden behavior on the sphinx rendered scikit-learn.org.\n",
       "     See: https://github.com/scikit-learn/scikit-learn/issues/21755 */\n",
       "  display: inline-block !important;\n",
       "  position: relative;\n",
       "}\n",
       "\n",
       "#sk-container-id-1 div.sk-text-repr-fallback {\n",
       "  display: none;\n",
       "}\n",
       "\n",
       "div.sk-parallel-item,\n",
       "div.sk-serial,\n",
       "div.sk-item {\n",
       "  /* draw centered vertical line to link estimators */\n",
       "  background-image: linear-gradient(var(--sklearn-color-text-on-default-background), var(--sklearn-color-text-on-default-background));\n",
       "  background-size: 2px 100%;\n",
       "  background-repeat: no-repeat;\n",
       "  background-position: center center;\n",
       "}\n",
       "\n",
       "/* Parallel-specific style estimator block */\n",
       "\n",
       "#sk-container-id-1 div.sk-parallel-item::after {\n",
       "  content: \"\";\n",
       "  width: 100%;\n",
       "  border-bottom: 2px solid var(--sklearn-color-text-on-default-background);\n",
       "  flex-grow: 1;\n",
       "}\n",
       "\n",
       "#sk-container-id-1 div.sk-parallel {\n",
       "  display: flex;\n",
       "  align-items: stretch;\n",
       "  justify-content: center;\n",
       "  background-color: var(--sklearn-color-background);\n",
       "  position: relative;\n",
       "}\n",
       "\n",
       "#sk-container-id-1 div.sk-parallel-item {\n",
       "  display: flex;\n",
       "  flex-direction: column;\n",
       "}\n",
       "\n",
       "#sk-container-id-1 div.sk-parallel-item:first-child::after {\n",
       "  align-self: flex-end;\n",
       "  width: 50%;\n",
       "}\n",
       "\n",
       "#sk-container-id-1 div.sk-parallel-item:last-child::after {\n",
       "  align-self: flex-start;\n",
       "  width: 50%;\n",
       "}\n",
       "\n",
       "#sk-container-id-1 div.sk-parallel-item:only-child::after {\n",
       "  width: 0;\n",
       "}\n",
       "\n",
       "/* Serial-specific style estimator block */\n",
       "\n",
       "#sk-container-id-1 div.sk-serial {\n",
       "  display: flex;\n",
       "  flex-direction: column;\n",
       "  align-items: center;\n",
       "  background-color: var(--sklearn-color-background);\n",
       "  padding-right: 1em;\n",
       "  padding-left: 1em;\n",
       "}\n",
       "\n",
       "\n",
       "/* Toggleable style: style used for estimator/Pipeline/ColumnTransformer box that is\n",
       "clickable and can be expanded/collapsed.\n",
       "- Pipeline and ColumnTransformer use this feature and define the default style\n",
       "- Estimators will overwrite some part of the style using the `sk-estimator` class\n",
       "*/\n",
       "\n",
       "/* Pipeline and ColumnTransformer style (default) */\n",
       "\n",
       "#sk-container-id-1 div.sk-toggleable {\n",
       "  /* Default theme specific background. It is overwritten whether we have a\n",
       "  specific estimator or a Pipeline/ColumnTransformer */\n",
       "  background-color: var(--sklearn-color-background);\n",
       "}\n",
       "\n",
       "/* Toggleable label */\n",
       "#sk-container-id-1 label.sk-toggleable__label {\n",
       "  cursor: pointer;\n",
       "  display: block;\n",
       "  width: 100%;\n",
       "  margin-bottom: 0;\n",
       "  padding: 0.5em;\n",
       "  box-sizing: border-box;\n",
       "  text-align: center;\n",
       "}\n",
       "\n",
       "#sk-container-id-1 label.sk-toggleable__label-arrow:before {\n",
       "  /* Arrow on the left of the label */\n",
       "  content: \"▸\";\n",
       "  float: left;\n",
       "  margin-right: 0.25em;\n",
       "  color: var(--sklearn-color-icon);\n",
       "}\n",
       "\n",
       "#sk-container-id-1 label.sk-toggleable__label-arrow:hover:before {\n",
       "  color: var(--sklearn-color-text);\n",
       "}\n",
       "\n",
       "/* Toggleable content - dropdown */\n",
       "\n",
       "#sk-container-id-1 div.sk-toggleable__content {\n",
       "  max-height: 0;\n",
       "  max-width: 0;\n",
       "  overflow: hidden;\n",
       "  text-align: left;\n",
       "  /* unfitted */\n",
       "  background-color: var(--sklearn-color-unfitted-level-0);\n",
       "}\n",
       "\n",
       "#sk-container-id-1 div.sk-toggleable__content.fitted {\n",
       "  /* fitted */\n",
       "  background-color: var(--sklearn-color-fitted-level-0);\n",
       "}\n",
       "\n",
       "#sk-container-id-1 div.sk-toggleable__content pre {\n",
       "  margin: 0.2em;\n",
       "  border-radius: 0.25em;\n",
       "  color: var(--sklearn-color-text);\n",
       "  /* unfitted */\n",
       "  background-color: var(--sklearn-color-unfitted-level-0);\n",
       "}\n",
       "\n",
       "#sk-container-id-1 div.sk-toggleable__content.fitted pre {\n",
       "  /* unfitted */\n",
       "  background-color: var(--sklearn-color-fitted-level-0);\n",
       "}\n",
       "\n",
       "#sk-container-id-1 input.sk-toggleable__control:checked~div.sk-toggleable__content {\n",
       "  /* Expand drop-down */\n",
       "  max-height: 200px;\n",
       "  max-width: 100%;\n",
       "  overflow: auto;\n",
       "}\n",
       "\n",
       "#sk-container-id-1 input.sk-toggleable__control:checked~label.sk-toggleable__label-arrow:before {\n",
       "  content: \"▾\";\n",
       "}\n",
       "\n",
       "/* Pipeline/ColumnTransformer-specific style */\n",
       "\n",
       "#sk-container-id-1 div.sk-label input.sk-toggleable__control:checked~label.sk-toggleable__label {\n",
       "  color: var(--sklearn-color-text);\n",
       "  background-color: var(--sklearn-color-unfitted-level-2);\n",
       "}\n",
       "\n",
       "#sk-container-id-1 div.sk-label.fitted input.sk-toggleable__control:checked~label.sk-toggleable__label {\n",
       "  background-color: var(--sklearn-color-fitted-level-2);\n",
       "}\n",
       "\n",
       "/* Estimator-specific style */\n",
       "\n",
       "/* Colorize estimator box */\n",
       "#sk-container-id-1 div.sk-estimator input.sk-toggleable__control:checked~label.sk-toggleable__label {\n",
       "  /* unfitted */\n",
       "  background-color: var(--sklearn-color-unfitted-level-2);\n",
       "}\n",
       "\n",
       "#sk-container-id-1 div.sk-estimator.fitted input.sk-toggleable__control:checked~label.sk-toggleable__label {\n",
       "  /* fitted */\n",
       "  background-color: var(--sklearn-color-fitted-level-2);\n",
       "}\n",
       "\n",
       "#sk-container-id-1 div.sk-label label.sk-toggleable__label,\n",
       "#sk-container-id-1 div.sk-label label {\n",
       "  /* The background is the default theme color */\n",
       "  color: var(--sklearn-color-text-on-default-background);\n",
       "}\n",
       "\n",
       "/* On hover, darken the color of the background */\n",
       "#sk-container-id-1 div.sk-label:hover label.sk-toggleable__label {\n",
       "  color: var(--sklearn-color-text);\n",
       "  background-color: var(--sklearn-color-unfitted-level-2);\n",
       "}\n",
       "\n",
       "/* Label box, darken color on hover, fitted */\n",
       "#sk-container-id-1 div.sk-label.fitted:hover label.sk-toggleable__label.fitted {\n",
       "  color: var(--sklearn-color-text);\n",
       "  background-color: var(--sklearn-color-fitted-level-2);\n",
       "}\n",
       "\n",
       "/* Estimator label */\n",
       "\n",
       "#sk-container-id-1 div.sk-label label {\n",
       "  font-family: monospace;\n",
       "  font-weight: bold;\n",
       "  display: inline-block;\n",
       "  line-height: 1.2em;\n",
       "}\n",
       "\n",
       "#sk-container-id-1 div.sk-label-container {\n",
       "  text-align: center;\n",
       "}\n",
       "\n",
       "/* Estimator-specific */\n",
       "#sk-container-id-1 div.sk-estimator {\n",
       "  font-family: monospace;\n",
       "  border: 1px dotted var(--sklearn-color-border-box);\n",
       "  border-radius: 0.25em;\n",
       "  box-sizing: border-box;\n",
       "  margin-bottom: 0.5em;\n",
       "  /* unfitted */\n",
       "  background-color: var(--sklearn-color-unfitted-level-0);\n",
       "}\n",
       "\n",
       "#sk-container-id-1 div.sk-estimator.fitted {\n",
       "  /* fitted */\n",
       "  background-color: var(--sklearn-color-fitted-level-0);\n",
       "}\n",
       "\n",
       "/* on hover */\n",
       "#sk-container-id-1 div.sk-estimator:hover {\n",
       "  /* unfitted */\n",
       "  background-color: var(--sklearn-color-unfitted-level-2);\n",
       "}\n",
       "\n",
       "#sk-container-id-1 div.sk-estimator.fitted:hover {\n",
       "  /* fitted */\n",
       "  background-color: var(--sklearn-color-fitted-level-2);\n",
       "}\n",
       "\n",
       "/* Specification for estimator info (e.g. \"i\" and \"?\") */\n",
       "\n",
       "/* Common style for \"i\" and \"?\" */\n",
       "\n",
       ".sk-estimator-doc-link,\n",
       "a:link.sk-estimator-doc-link,\n",
       "a:visited.sk-estimator-doc-link {\n",
       "  float: right;\n",
       "  font-size: smaller;\n",
       "  line-height: 1em;\n",
       "  font-family: monospace;\n",
       "  background-color: var(--sklearn-color-background);\n",
       "  border-radius: 1em;\n",
       "  height: 1em;\n",
       "  width: 1em;\n",
       "  text-decoration: none !important;\n",
       "  margin-left: 1ex;\n",
       "  /* unfitted */\n",
       "  border: var(--sklearn-color-unfitted-level-1) 1pt solid;\n",
       "  color: var(--sklearn-color-unfitted-level-1);\n",
       "}\n",
       "\n",
       ".sk-estimator-doc-link.fitted,\n",
       "a:link.sk-estimator-doc-link.fitted,\n",
       "a:visited.sk-estimator-doc-link.fitted {\n",
       "  /* fitted */\n",
       "  border: var(--sklearn-color-fitted-level-1) 1pt solid;\n",
       "  color: var(--sklearn-color-fitted-level-1);\n",
       "}\n",
       "\n",
       "/* On hover */\n",
       "div.sk-estimator:hover .sk-estimator-doc-link:hover,\n",
       ".sk-estimator-doc-link:hover,\n",
       "div.sk-label-container:hover .sk-estimator-doc-link:hover,\n",
       ".sk-estimator-doc-link:hover {\n",
       "  /* unfitted */\n",
       "  background-color: var(--sklearn-color-unfitted-level-3);\n",
       "  color: var(--sklearn-color-background);\n",
       "  text-decoration: none;\n",
       "}\n",
       "\n",
       "div.sk-estimator.fitted:hover .sk-estimator-doc-link.fitted:hover,\n",
       ".sk-estimator-doc-link.fitted:hover,\n",
       "div.sk-label-container:hover .sk-estimator-doc-link.fitted:hover,\n",
       ".sk-estimator-doc-link.fitted:hover {\n",
       "  /* fitted */\n",
       "  background-color: var(--sklearn-color-fitted-level-3);\n",
       "  color: var(--sklearn-color-background);\n",
       "  text-decoration: none;\n",
       "}\n",
       "\n",
       "/* Span, style for the box shown on hovering the info icon */\n",
       ".sk-estimator-doc-link span {\n",
       "  display: none;\n",
       "  z-index: 9999;\n",
       "  position: relative;\n",
       "  font-weight: normal;\n",
       "  right: .2ex;\n",
       "  padding: .5ex;\n",
       "  margin: .5ex;\n",
       "  width: min-content;\n",
       "  min-width: 20ex;\n",
       "  max-width: 50ex;\n",
       "  color: var(--sklearn-color-text);\n",
       "  box-shadow: 2pt 2pt 4pt #999;\n",
       "  /* unfitted */\n",
       "  background: var(--sklearn-color-unfitted-level-0);\n",
       "  border: .5pt solid var(--sklearn-color-unfitted-level-3);\n",
       "}\n",
       "\n",
       ".sk-estimator-doc-link.fitted span {\n",
       "  /* fitted */\n",
       "  background: var(--sklearn-color-fitted-level-0);\n",
       "  border: var(--sklearn-color-fitted-level-3);\n",
       "}\n",
       "\n",
       ".sk-estimator-doc-link:hover span {\n",
       "  display: block;\n",
       "}\n",
       "\n",
       "/* \"?\"-specific style due to the `<a>` HTML tag */\n",
       "\n",
       "#sk-container-id-1 a.estimator_doc_link {\n",
       "  float: right;\n",
       "  font-size: 1rem;\n",
       "  line-height: 1em;\n",
       "  font-family: monospace;\n",
       "  background-color: var(--sklearn-color-background);\n",
       "  border-radius: 1rem;\n",
       "  height: 1rem;\n",
       "  width: 1rem;\n",
       "  text-decoration: none;\n",
       "  /* unfitted */\n",
       "  color: var(--sklearn-color-unfitted-level-1);\n",
       "  border: var(--sklearn-color-unfitted-level-1) 1pt solid;\n",
       "}\n",
       "\n",
       "#sk-container-id-1 a.estimator_doc_link.fitted {\n",
       "  /* fitted */\n",
       "  border: var(--sklearn-color-fitted-level-1) 1pt solid;\n",
       "  color: var(--sklearn-color-fitted-level-1);\n",
       "}\n",
       "\n",
       "/* On hover */\n",
       "#sk-container-id-1 a.estimator_doc_link:hover {\n",
       "  /* unfitted */\n",
       "  background-color: var(--sklearn-color-unfitted-level-3);\n",
       "  color: var(--sklearn-color-background);\n",
       "  text-decoration: none;\n",
       "}\n",
       "\n",
       "#sk-container-id-1 a.estimator_doc_link.fitted:hover {\n",
       "  /* fitted */\n",
       "  background-color: var(--sklearn-color-fitted-level-3);\n",
       "}\n",
       "</style><div id=\"sk-container-id-1\" class=\"sk-top-container\"><div class=\"sk-text-repr-fallback\"><pre>LogisticRegression()</pre><b>In a Jupyter environment, please rerun this cell to show the HTML representation or trust the notebook. <br />On GitHub, the HTML representation is unable to render, please try loading this page with nbviewer.org.</b></div><div class=\"sk-container\" hidden><div class=\"sk-item\"><div class=\"sk-estimator fitted sk-toggleable\"><input class=\"sk-toggleable__control sk-hidden--visually\" id=\"sk-estimator-id-1\" type=\"checkbox\" checked><label for=\"sk-estimator-id-1\" class=\"sk-toggleable__label fitted sk-toggleable__label-arrow fitted\">&nbsp;&nbsp;LogisticRegression<a class=\"sk-estimator-doc-link fitted\" rel=\"noreferrer\" target=\"_blank\" href=\"https://scikit-learn.org/1.5/modules/generated/sklearn.linear_model.LogisticRegression.html\">?<span>Documentation for LogisticRegression</span></a><span class=\"sk-estimator-doc-link fitted\">i<span>Fitted</span></span></label><div class=\"sk-toggleable__content fitted\"><pre>LogisticRegression()</pre></div> </div></div></div></div>"
      ],
      "text/plain": [
       "LogisticRegression()"
      ]
     },
     "execution_count": 35,
     "metadata": {},
     "output_type": "execute_result"
    }
   ],
   "source": [
    "from sklearn.linear_model import LogisticRegression\n",
    "log_model = LogisticRegression()\n",
    "log_model.fit(X_train, y_train)"
   ]
  },
  {
   "cell_type": "code",
   "execution_count": 36,
   "id": "8fbe2098-c7b7-4c85-bd03-173907270539",
   "metadata": {},
   "outputs": [],
   "source": [
    "y_pred_LR = log_model.predict(X_test)"
   ]
  },
  {
   "cell_type": "code",
   "execution_count": 37,
   "id": "ac0e1b11-130a-42ae-bafa-468a09f0548d",
   "metadata": {},
   "outputs": [
    {
     "name": "stdout",
     "output_type": "stream",
     "text": [
      "Basic Evaluation:\n",
      "Accuracy:   0.9736842105263158\n",
      "Precision:  0.9722222222222222\n",
      "Recall:     0.9859154929577465\n",
      "F1 Score:   0.9790209790209791\n"
     ]
    }
   ],
   "source": [
    "from sklearn.metrics import accuracy_score, precision_score, recall_score, f1_score\n",
    "\n",
    "print(\"Basic Evaluation:\")\n",
    "print(\"Accuracy:  \", accuracy_score(y_test, y_pred_LR))\n",
    "print(\"Precision: \", precision_score(y_test, y_pred_LR))\n",
    "print(\"Recall:    \", recall_score(y_test, y_pred_LR))\n",
    "print(\"F1 Score:  \", f1_score(y_test, y_pred_LR))"
   ]
  },
  {
   "cell_type": "code",
   "execution_count": 39,
   "id": "2278cd5f-0eac-4a72-b88b-a899c677b638",
   "metadata": {},
   "outputs": [
    {
     "name": "stdout",
     "output_type": "stream",
     "text": [
      "              precision    recall  f1-score   support\n",
      "\n",
      "      Cancer       0.98      0.95      0.96        43\n",
      "  Non-Cancer       0.97      0.99      0.98        71\n",
      "\n",
      "    accuracy                           0.97       114\n",
      "   macro avg       0.97      0.97      0.97       114\n",
      "weighted avg       0.97      0.97      0.97       114\n",
      "\n"
     ]
    }
   ],
   "source": [
    "from sklearn.metrics import classification_report\n",
    "print(classification_report(y_test, y_pred_LR, target_names=['Cancer', 'Non-Cancer']))   # TO EVALUTE MACHINES PERFORMANCE EVALATION FOR EACH SET 0 AND 1"
   ]
  },
  {
   "cell_type": "markdown",
   "id": "ffe0e6fd-4ee9-429f-a0cd-ace59e523638",
   "metadata": {},
   "source": [
    "#Since the data set is unbalaced measure weighted avaerage and macro average which evaluate overall performance correctly."
   ]
  },
  {
   "cell_type": "code",
   "execution_count": 40,
   "id": "f3274b4d-8059-4946-9a47-c8ab4492280a",
   "metadata": {},
   "outputs": [
    {
     "name": "stdout",
     "output_type": "stream",
     "text": [
      "Extended Metrics:\n",
      "Precision (Macro):     0.9742063492063492\n",
      "Recall (Macro):        0.9697019325253848\n",
      "F1 Score (Macro):      0.9718634306869601\n",
      "Precision (Weighted):  0.9737190197716513\n",
      "Recall (Weighted):     0.9736842105263158\n",
      "F1 Score (Weighted):   0.973621425014614\n"
     ]
    }
   ],
   "source": [
    "print(\"Extended Metrics:\")\n",
    "print(\"Precision (Macro):    \", precision_score(y_test, y_pred_LR, average='macro'))\n",
    "print(\"Recall (Macro):       \", recall_score(y_test, y_pred_LR, average='macro'))\n",
    "print(\"F1 Score (Macro):     \", f1_score(y_test, y_pred_LR, average='macro'))\n",
    "\n",
    "print(\"Precision (Weighted): \", precision_score(y_test, y_pred_LR, average='weighted'))\n",
    "print(\"Recall (Weighted):    \", recall_score(y_test, y_pred_LR, average='weighted'))\n",
    "print(\"F1 Score (Weighted):  \", f1_score(y_test, y_pred_LR, average='weighted'))\n"
   ]
  },
  {
   "cell_type": "markdown",
   "id": "30507b7f-01ad-446d-b239-e9f86cf42173",
   "metadata": {},
   "source": [
    "#Confusion matrix to visualise  TP,TN,FP,FN for the sets 0 and 1 ,which are the foundation of evalution of  precision,recall and f1 score.."
   ]
  },
  {
   "cell_type": "code",
   "execution_count": 42,
   "id": "8ccd6d3e-d0ef-4f13-8865-e8acf369fc99",
   "metadata": {},
   "outputs": [
    {
     "data": {
      "image/png": "[encoded data removed]",
      "text/plain": [
       "<Figure size 640x480 with 2 Axes>"
      ]
     },
     "metadata": {},
     "output_type": "display_data"
    }
   ],
   "source": [
    "from sklearn.metrics import confusion_matrix\n",
    "import seaborn as sns\n",
    "import matplotlib.pyplot as plt\n",
    "\n",
    "cm = confusion_matrix(y_test, y_pred_LR)\n",
    "sns.heatmap(cm, annot=True, fmt='d', cmap='Blues', xticklabels=['Cancer', 'Non-Cancer'], yticklabels=['Cancer', 'Non-Cancer'])\n",
    "plt.xlabel(\"Predicted\")\n",
    "plt.ylabel(\"Actual\")\n",
    "plt.title(\"Confusion Matrix\")\n",
    "plt.show()"
   ]
  },
  {
   "cell_type": "markdown",
   "id": "a5b74fbf-b06c-4ce2-bb64-146f1104eb44",
   "metadata": {},
   "source": [
    "On average, 97.42% of  positive predictions (for both cancer and non-cancer classes) were correct.\n",
    "Macro average treats both classes equally, no matter how many samples are in each class.\n",
    "Interpretation: model is precise across both classes, without bias."
   ]
  },
  {
   "cell_type": "markdown",
   "id": "ce88ac53-0c37-4985-b19f-5d8b55baf9b0",
   "metadata": {},
   "source": [
    "# DCISION TREE"
   ]
  },
  {
   "cell_type": "code",
   "execution_count": 43,
   "id": "592feae3-64a7-4e30-aded-44fa43b52ec4",
   "metadata": {},
   "outputs": [
    {
     "name": "stdout",
     "output_type": "stream",
     "text": [
      "Decision Tree - Basic Metrics:\n",
      "Accuracy:  0.9474\n",
      "Precision: 0.9577\n",
      "Recall:    0.9577\n",
      "F1 Score:  0.9577\n"
     ]
    }
   ],
   "source": [
    "from sklearn.tree import DecisionTreeClassifier\n",
    "from sklearn.metrics import (accuracy_score, precision_score, recall_score, f1_score,classification_report, confusion_matrix)\n",
    "import seaborn as sns\n",
    "import matplotlib.pyplot as plt\n",
    "\n",
    "dt_model = DecisionTreeClassifier(random_state=42)\n",
    "dt_model.fit(X_train, y_train)\n",
    "\n",
    "y_pred_DT = dt_model.predict(X_test)\n",
    "\n",
    "acc_dt = accuracy_score(y_test, y_pred_DT )\n",
    "prec_dt = precision_score(y_test, y_pred_DT )\n",
    "rec_dt = recall_score(y_test,y_pred_DT )\n",
    "f1_dt = f1_score(y_test,y_pred_DT )\n",
    "\n",
    "print(\"Decision Tree - Basic Metrics:\")\n",
    "print(f\"Accuracy:  {acc_dt:.4f}\")\n",
    "print(f\"Precision: {prec_dt:.4f}\")\n",
    "print(f\"Recall:    {rec_dt:.4f}\")\n",
    "print(f\"F1 Score:  {f1_dt:.4f}\")"
   ]
  },
  {
   "cell_type": "code",
   "execution_count": 45,
   "id": "36d617dc-b072-43c9-be61-8d9b5618e7af",
   "metadata": {},
   "outputs": [
    {
     "name": "stdout",
     "output_type": "stream",
     "text": [
      "\n",
      " Classification Report:\n",
      "              precision    recall  f1-score   support\n",
      "\n",
      "   malignant       0.93      0.93      0.93        43\n",
      "      benign       0.96      0.96      0.96        71\n",
      "\n",
      "    accuracy                           0.95       114\n",
      "   macro avg       0.94      0.94      0.94       114\n",
      "weighted avg       0.95      0.95      0.95       114\n",
      "\n"
     ]
    }
   ],
   "source": [
    "print(\"\\n Classification Report:\")\n",
    "print(classification_report(y_test, y_pred_DT, target_names=data.target_names))"
   ]
  },
  {
   "cell_type": "code",
   "execution_count": 49,
   "id": "83344108-b5aa-4b03-a09b-6092017c03c4",
   "metadata": {},
   "outputs": [
    {
     "name": "stdout",
     "output_type": "stream",
     "text": [
      "\n",
      " Extended Metrics (Decision Tree):\n",
      "Precision (Macro):     0.9440\n",
      "Recall (Macro):        0.9440\n",
      "F1 Score (Macro):      0.9440\n",
      "Precision (Weighted):  0.9474\n",
      "Recall (Weighted):     0.9474\n",
      "F1 Score (Weighted):   0.9474\n"
     ]
    }
   ],
   "source": [
    "prec_macro_dt = precision_score(y_test,y_pred_DT, average='macro')\n",
    "rec_macro_dt = recall_score(y_test,y_pred_DT, average='macro')\n",
    "f1_macro_dt = f1_score(y_test, y_pred_DT, average='macro')\n",
    "\n",
    "prec_weighted_dt = precision_score(y_test, y_pred_DT, average='weighted')\n",
    "rec_weighted_dt = recall_score(y_test, y_pred_DT, average='weighted')\n",
    "f1_weighted_dt = f1_score(y_test, y_pred_DT, average='weighted')\n",
    "\n",
    "print(\"\\n Extended Metrics (Decision Tree):\")\n",
    "print(f\"Precision (Macro):     {prec_macro_dt:.4f}\")\n",
    "print(f\"Recall (Macro):        {rec_macro_dt:.4f}\")\n",
    "print(f\"F1 Score (Macro):      {f1_macro_dt:.4f}\")\n",
    "print(f\"Precision (Weighted):  {prec_weighted_dt:.4f}\")\n",
    "print(f\"Recall (Weighted):     {rec_weighted_dt:.4f}\")\n",
    "print(f\"F1 Score (Weighted):   {f1_weighted_dt:.4f}\")"
   ]
  },
  {
   "cell_type": "code",
   "execution_count": 50,
   "id": "95e2e5ce-2dde-4280-93b6-7fc8f2334249",
   "metadata": {},
   "outputs": [
    {
     "data": {
      "image/png": "[encoded data removed]",
      "text/plain": [
       "<Figure size 600x400 with 2 Axes>"
      ]
     },
     "metadata": {},
     "output_type": "display_data"
    }
   ],
   "source": [
    "cm_dt = confusion_matrix(y_test, y_pred_DT)\n",
    "plt.figure(figsize=(6, 4))\n",
    "sns.heatmap(cm_dt, annot=True, fmt='d', cmap='Purples',xticklabels=data.target_names, yticklabels=data.target_names)\n",
    "plt.xlabel(\"Predicted Label\")\n",
    "plt.ylabel(\"True Label\")\n",
    "plt.title(\"Confusion Matrix - Decision Tree\")\n",
    "plt.show()"
   ]
  },
  {
   "cell_type": "markdown",
   "id": "d4172761-49a7-4029-b484-0e048bbaabc5",
   "metadata": {},
   "source": [
    "The model achieved high and balanced performance with F1 Macro = 0.9440 and F1 Weighted = 0.9474, indicating strong classification ability across both cancerous and non-cancerous cases.\n",
    "The small difference between macro and weighted scores shows the model handles class imbalance well and performs consistently across both classes.\n",
    "This suggests the Decision Tree is effective at minimizing false positives and false negatives, making it reliable for medical diagnosis tasks."
   ]
  },
  {
   "cell_type": "markdown",
   "id": "8e4ddb0a-4901-4285-9330-bf7907b77cde",
   "metadata": {},
   "source": [
    "# RANDOM FOREST"
   ]
  },
  {
   "cell_type": "code",
   "execution_count": 51,
   "id": "39338502-a5ad-4c94-a588-20595c8c7df5",
   "metadata": {},
   "outputs": [],
   "source": [
    "from sklearn.ensemble import RandomForestClassifier\n",
    "rf_model = RandomForestClassifier(random_state=42)\n",
    "rf_model.fit(X_train, y_train)\n",
    "y_pred_RF = rf_model.predict(X_test)"
   ]
  },
  {
   "cell_type": "code",
   "execution_count": 53,
   "id": "71f8a814-3731-4c84-961d-823cb5bf24f5",
   "metadata": {},
   "outputs": [
    {
     "name": "stdout",
     "output_type": "stream",
     "text": [
      "Random Forest - Basic Metrics:\n",
      "Accuracy:  0.9649\n",
      "Precision: 0.9589\n",
      "Recall:    0.9859\n",
      "F1 Score:  0.9722\n"
     ]
    }
   ],
   "source": [
    "from sklearn.metrics import accuracy_score, precision_score, recall_score, f1_score\n",
    "acc_rf = accuracy_score(y_test, y_pred_RF)\n",
    "prec_rf = precision_score(y_test, y_pred_RF)\n",
    "rec_rf = recall_score(y_test, y_pred_RF)\n",
    "f1_rf = f1_score(y_test,y_pred_RF)\n",
    "\n",
    "print(\"Random Forest - Basic Metrics:\")\n",
    "print(f\"Accuracy:  {acc_rf:.4f}\")\n",
    "print(f\"Precision: {prec_rf:.4f}\")\n",
    "print(f\"Recall:    {rec_rf:.4f}\")\n",
    "print(f\"F1 Score:  {f1_rf:.4f}\")"
   ]
  },
  {
   "cell_type": "code",
   "execution_count": 54,
   "id": "a5299f62-fb03-48fd-8c77-fa8c85b927a6",
   "metadata": {},
   "outputs": [
    {
     "name": "stdout",
     "output_type": "stream",
     "text": [
      "\n",
      " Classification Report:\n",
      "              precision    recall  f1-score   support\n",
      "\n",
      "   malignant       0.98      0.93      0.95        43\n",
      "      benign       0.96      0.99      0.97        71\n",
      "\n",
      "    accuracy                           0.96       114\n",
      "   macro avg       0.97      0.96      0.96       114\n",
      "weighted avg       0.97      0.96      0.96       114\n",
      "\n"
     ]
    }
   ],
   "source": [
    "from sklearn.metrics import classification_report\n",
    "print(\"\\n Classification Report:\")\n",
    "print(classification_report(y_test, y_pred_RF, target_names=data.target_names))"
   ]
  },
  {
   "cell_type": "code",
   "execution_count": 55,
   "id": "90bd09b6-e526-427c-a62e-f868ef95922a",
   "metadata": {},
   "outputs": [
    {
     "name": "stdout",
     "output_type": "stream",
     "text": [
      "\n",
      " Extended Metrics (Random Forest):\n",
      "Precision (Macro):     0.9673\n",
      "Recall (Macro):        0.9581\n",
      "F1 Score (Macro):      0.9623\n",
      "Precision (Weighted):  0.9652\n",
      "Recall (Weighted):     0.9649\n",
      "F1 Score (Weighted):   0.9647\n"
     ]
    }
   ],
   "source": [
    "prec_macro_rf = precision_score(y_test, y_pred_RF, average='macro')\n",
    "rec_macro_rf = recall_score(y_test, y_pred_RF, average='macro')\n",
    "f1_macro_rf = f1_score(y_test, y_pred_RF, average='macro')\n",
    "\n",
    "prec_weighted_rf = precision_score(y_test, y_pred_RF, average='weighted')\n",
    "rec_weighted_rf = recall_score(y_test,y_pred_RF, average='weighted')\n",
    "f1_weighted_rf = f1_score(y_test, y_pred_RF, average='weighted')\n",
    "\n",
    "print(\"\\n Extended Metrics (Random Forest):\")\n",
    "print(f\"Precision (Macro):     {prec_macro_rf:.4f}\")\n",
    "print(f\"Recall (Macro):        {rec_macro_rf:.4f}\")\n",
    "print(f\"F1 Score (Macro):      {f1_macro_rf:.4f}\")\n",
    "print(f\"Precision (Weighted):  {prec_weighted_rf:.4f}\")\n",
    "print(f\"Recall (Weighted):     {rec_weighted_rf:.4f}\")\n",
    "print(f\"F1 Score (Weighted):   {f1_weighted_rf:.4f}\")"
   ]
  },
  {
   "cell_type": "markdown",
   "id": "6919381b-fabc-4939-aaf7-7db77ceaa5b8",
   "metadata": {},
   "source": [
    "The model shows excellent and stable performance with F1 Macro = 0.9623 and F1 Weighted = 0.9647, indicating strong results across both classes (cancerous and non-cancerous).\n",
    "Very small gap between macro and weighted scores means the model performs consistently, even with slight class imbalance.\n",
    "The high precision and recall suggest the Random Forest is reliable at minimizing both false positives and false negatives, which is crucial for medical classification problems."
   ]
  },
  {
   "cell_type": "code",
   "execution_count": 56,
   "id": "e665ad21-11df-4252-88d8-22501a2f80a7",
   "metadata": {},
   "outputs": [
    {
     "data": {
      "image/png": "[encoded data removed]",
      "text/plain": [
       "<Figure size 600x400 with 2 Axes>"
      ]
     },
     "metadata": {},
     "output_type": "display_data"
    }
   ],
   "source": [
    "from sklearn.metrics import confusion_matrix\n",
    "import seaborn as sns\n",
    "import matplotlib.pyplot as plt\n",
    "\n",
    "cm_rf = confusion_matrix(y_test,y_pred_RF)\n",
    "plt.figure(figsize=(6, 4))\n",
    "sns.heatmap(cm_rf, annot=True, fmt='d', cmap='Greens',xticklabels=data.target_names, yticklabels=data.target_names)\n",
    "plt.xlabel(\"Predicted Label\")\n",
    "plt.ylabel(\"True Label\")\n",
    "plt.title(\"Confusion Matrix - Random Forest\")\n",
    "plt.show()\n"
   ]
  },
  {
   "cell_type": "markdown",
   "id": "ea23c9d6-a332-4165-b993-5e9731d8652a",
   "metadata": {},
   "source": [
    "# SVM"
   ]
  },
  {
   "cell_type": "code",
   "execution_count": 58,
   "id": "6b8d206f-caff-4fd6-9dc3-36c535ea6b72",
   "metadata": {},
   "outputs": [],
   "source": [
    "from sklearn.svm import SVC\n",
    "svm_model = SVC(kernel='linear', random_state=42)  \n",
    "svm_model.fit(X_train, y_train)\n",
    "y_pred_SVM = svm_model.predict(X_test)"
   ]
  },
  {
   "cell_type": "code",
   "execution_count": 59,
   "id": "2f68831a-7d84-4e15-a26b-ff4be28ec92c",
   "metadata": {},
   "outputs": [
    {
     "name": "stdout",
     "output_type": "stream",
     "text": [
      " SVM - Basic Metrics:\n",
      "Accuracy:  0.9561\n",
      "Precision: 0.9714\n",
      "Recall:    0.9577\n",
      "F1 Score:  0.9645\n"
     ]
    }
   ],
   "source": [
    "from sklearn.metrics import accuracy_score, precision_score, recall_score, f1_score\n",
    "acc_svm = accuracy_score(y_test, y_pred_SVM)\n",
    "prec_svm = precision_score(y_test, y_pred_SVM)\n",
    "rec_svm = recall_score(y_test, y_pred_SVM)\n",
    "f1_svm = f1_score(y_test, y_pred_SVM)\n",
    "\n",
    "print(\" SVM - Basic Metrics:\")\n",
    "print(f\"Accuracy:  {acc_svm:.4f}\")\n",
    "print(f\"Precision: {prec_svm:.4f}\")\n",
    "print(f\"Recall:    {rec_svm:.4f}\")\n",
    "print(f\"F1 Score:  {f1_svm:.4f}\")"
   ]
  },
  {
   "cell_type": "code",
   "execution_count": 73,
   "id": "b0d3b2ae-b628-41c7-8f90-6c0ce55b1cd1",
   "metadata": {},
   "outputs": [
    {
     "name": "stdout",
     "output_type": "stream",
     "text": [
      "\n",
      " Classification Report (SVM):\n",
      "              precision    recall  f1-score   support\n",
      "\n",
      "   malignant       0.93      0.95      0.94        43\n",
      "      benign       0.97      0.96      0.96        71\n",
      "\n",
      "    accuracy                           0.96       114\n",
      "   macro avg       0.95      0.96      0.95       114\n",
      "weighted avg       0.96      0.96      0.96       114\n",
      "\n"
     ]
    }
   ],
   "source": [
    "from sklearn.metrics import classification_report\n",
    "print(\"\\n Classification Report (SVM):\")\n",
    "print(classification_report(y_test, y_pred_SVM, target_names=data.target_names))"
   ]
  },
  {
   "cell_type": "code",
   "execution_count": 74,
   "id": "c31bae02-616f-4a22-b38b-35c1b1671588",
   "metadata": {},
   "outputs": [
    {
     "name": "stdout",
     "output_type": "stream",
     "text": [
      "\n",
      " Extended Metrics (SVM):\n",
      "Precision (Macro):     0.9516\n",
      "Recall (Macro):        0.9556\n",
      "F1 Score (Macro):      0.9535\n",
      "Precision (Weighted):  0.9565\n",
      "Recall (Weighted):     0.9561\n",
      "F1 Score (Weighted):   0.9562\n"
     ]
    }
   ],
   "source": [
    "prec_macro_svm = precision_score(y_test, y_pred_SVM, average='macro')\n",
    "rec_macro_svm = recall_score(y_test,y_pred_SVM, average='macro')\n",
    "f1_macro_svm = f1_score(y_test, y_pred_SVM, average='macro')\n",
    "\n",
    "prec_weighted_svm = precision_score(y_test, y_pred_SVM, average='weighted')\n",
    "rec_weighted_svm = recall_score(y_test, y_pred_SVM, average='weighted')\n",
    "f1_weighted_svm = f1_score(y_test, y_pred_SVM, average='weighted')\n",
    "\n",
    "print(\"\\n Extended Metrics (SVM):\")\n",
    "print(f\"Precision (Macro):     {prec_macro_svm:.4f}\")\n",
    "print(f\"Recall (Macro):        {rec_macro_svm:.4f}\")\n",
    "print(f\"F1 Score (Macro):      {f1_macro_svm:.4f}\")\n",
    "print(f\"Precision (Weighted):  {prec_weighted_svm:.4f}\")\n",
    "print(f\"Recall (Weighted):     {rec_weighted_svm:.4f}\")\n",
    "print(f\"F1 Score (Weighted):   {f1_weighted_svm:.4f}\")"
   ]
  },
  {
   "cell_type": "code",
   "execution_count": 62,
   "id": "5fe41543-0d47-4aaf-adff-500f4003d4a5",
   "metadata": {},
   "outputs": [
    {
     "data": {
      "image/png": "[encoded data removed]",
      "text/plain": [
       "<Figure size 600x400 with 2 Axes>"
      ]
     },
     "metadata": {},
     "output_type": "display_data"
    }
   ],
   "source": [
    "from sklearn.metrics import confusion_matrix\n",
    "import seaborn as sns\n",
    "import matplotlib.pyplot as plt\n",
    "\n",
    "cm_svm = confusion_matrix(y_test,y_pred_SVM)\n",
    "plt.figure(figsize=(6, 4))\n",
    "sns.heatmap(cm_svm, annot=True, fmt='d', cmap='Blues',xticklabels=data.target_names, yticklabels=data.target_names)\n",
    "plt.xlabel(\"Predicted Label\")\n",
    "plt.ylabel(\"True Label\")\n",
    "plt.title(\"Confusion Matrix - SVM\")\n",
    "plt.show()"
   ]
  },
  {
   "cell_type": "markdown",
   "id": "acfeaa0e-6ac0-4846-b936-dfc1b5a22619",
   "metadata": {},
   "source": [
    "F1 Macro = 0.9535 and F1 Weighted = 0.9562 show the model performs very well across both classes, with slightly better treatment of majority class due to weighting."
   ]
  },
  {
   "cell_type": "markdown",
   "id": "f400a357-bdd5-45d4-842e-03f6728e2ac2",
   "metadata": {},
   "source": [
    "# KNN"
   ]
  },
  {
   "cell_type": "code",
   "execution_count": 63,
   "id": "32065100-f2f6-4168-97ce-895cd7fe21ac",
   "metadata": {},
   "outputs": [],
   "source": [
    "from sklearn.neighbors import KNeighborsClassifier\n",
    "knn_model = KNeighborsClassifier(n_neighbors=5)\n",
    "knn_model.fit(X_train, y_train)\n",
    "y_pred_KNN = knn_model.predict(X_test)"
   ]
  },
  {
   "cell_type": "code",
   "execution_count": 65,
   "id": "e8d53d1e-ed35-4b8b-96b6-24724b5f01aa",
   "metadata": {},
   "outputs": [
    {
     "name": "stdout",
     "output_type": "stream",
     "text": [
      "KNN - Basic Metrics:\n",
      "Accuracy:  0.9474\n",
      "Precision: 0.9577\n",
      "Recall:    0.9577\n",
      "F1 Score:  0.9577\n"
     ]
    }
   ],
   "source": [
    "from sklearn.metrics import accuracy_score, precision_score, recall_score, f1_score\n",
    "acc_knn = accuracy_score(y_test, y_pred_KNN)\n",
    "prec_knn = precision_score(y_test, y_pred_KNN)\n",
    "rec_knn = recall_score(y_test, y_pred_KNN)\n",
    "f1_knn = f1_score(y_test,y_pred_KNN)\n",
    "\n",
    "print(\"KNN - Basic Metrics:\")\n",
    "print(f\"Accuracy:  {acc_knn:.4f}\")\n",
    "print(f\"Precision: {prec_knn:.4f}\")\n",
    "print(f\"Recall:    {rec_knn:.4f}\")\n",
    "print(f\"F1 Score:  {f1_knn:.4f}\")"
   ]
  },
  {
   "cell_type": "code",
   "execution_count": 66,
   "id": "0c63de3c-f17e-41a8-a3a5-085706759412",
   "metadata": {},
   "outputs": [
    {
     "name": "stdout",
     "output_type": "stream",
     "text": [
      "\n",
      "  Classification Report (KNN):\n",
      "              precision    recall  f1-score   support\n",
      "\n",
      "   malignant       0.93      0.93      0.93        43\n",
      "      benign       0.96      0.96      0.96        71\n",
      "\n",
      "    accuracy                           0.95       114\n",
      "   macro avg       0.94      0.94      0.94       114\n",
      "weighted avg       0.95      0.95      0.95       114\n",
      "\n"
     ]
    }
   ],
   "source": [
    "from sklearn.metrics import classification_report\n",
    "print(\"\\n  Classification Report (KNN):\")\n",
    "print(classification_report(y_test, y_pred_KNN, target_names=data.target_names))"
   ]
  },
  {
   "cell_type": "code",
   "execution_count": 67,
   "id": "d3fa89d9-58dd-4410-903f-26f07db36b9f",
   "metadata": {},
   "outputs": [
    {
     "name": "stdout",
     "output_type": "stream",
     "text": [
      "\n",
      " Extended Metrics (KNN):\n",
      "Precision (Macro):     0.9440\n",
      "Recall (Macro):        0.9440\n",
      "F1 Score (Macro):      0.9440\n",
      "Precision (Weighted):  0.9474\n",
      "Recall (Weighted):     0.9474\n",
      "F1 Score (Weighted):   0.9474\n"
     ]
    }
   ],
   "source": [
    "prec_macro_knn = precision_score(y_test, y_pred_KNN, average='macro')\n",
    "rec_macro_knn = recall_score(y_test, y_pred_KNN, average='macro')\n",
    "f1_macro_knn = f1_score(y_test, y_pred_KNN, average='macro')\n",
    "\n",
    "prec_weighted_knn = precision_score(y_test, y_pred_KNN, average='weighted')\n",
    "rec_weighted_knn = recall_score(y_test,y_pred_KNN, average='weighted')\n",
    "f1_weighted_knn = f1_score(y_test, y_pred_KNN, average='weighted')\n",
    "\n",
    "print(\"\\n Extended Metrics (KNN):\")\n",
    "print(f\"Precision (Macro):     {prec_macro_knn:.4f}\")\n",
    "print(f\"Recall (Macro):        {rec_macro_knn:.4f}\")\n",
    "print(f\"F1 Score (Macro):      {f1_macro_knn:.4f}\")\n",
    "print(f\"Precision (Weighted):  {prec_weighted_knn:.4f}\")\n",
    "print(f\"Recall (Weighted):     {rec_weighted_knn:.4f}\")\n",
    "print(f\"F1 Score (Weighted):   {f1_weighted_knn:.4f}\")"
   ]
  },
  {
   "cell_type": "code",
   "execution_count": 68,
   "id": "4cf93214-933c-48f8-bfc1-34bc44ff342d",
   "metadata": {},
   "outputs": [
    {
     "name": "stderr",
     "output_type": "stream",
     "text": [
      "C:\\Users\\SR\\anaconda3\\Lib\\site-packages\\IPython\\core\\pylabtools.py:170: UserWarning: Glyph 128095 (\\N{ATHLETIC SHOE}) missing from font(s) DejaVu Sans.\n",
      "  fig.canvas.print_figure(bytes_io, **kw)\n"
     ]
    },
    {
     "data": {
      "image/png": "[encoded data removed]",
      "text/plain": [
       "<Figure size 600x400 with 2 Axes>"
      ]
     },
     "metadata": {},
     "output_type": "display_data"
    }
   ],
   "source": [
    "from sklearn.metrics import confusion_matrix\n",
    "import seaborn as sns\n",
    "import matplotlib.pyplot as plt\n",
    "\n",
    "cm_knn = confusion_matrix(y_test, y_pred_KNN)\n",
    "plt.figure(figsize=(6, 4))\n",
    "sns.heatmap(cm_knn, annot=True, fmt='d', cmap='Purples',xticklabels=data.target_names, yticklabels=data.target_names)\n",
    "plt.xlabel(\"Predicted Label\")\n",
    "plt.ylabel(\"True Label\")\n",
    "plt.title(\"👟 Confusion Matrix - KNN\")\n",
    "plt.show()"
   ]
  },
  {
   "cell_type": "markdown",
   "id": "75c0cbfb-07ed-48e3-a355-e04aaf3be1a8",
   "metadata": {},
   "source": [
    "F1 Macro = 0.9440 and F1 Weighted = 0.9474 indicate that the model has performed quite well across both classes, maintaining consistency.\n",
    "The equality of precision, recall, and F1 shows the model is balanced in detecting both cancerous and non-cancerous cases.\n",
    "While slightly behind top performers like Logistic Regression and Random Forest, KNN still delivers reliable predictions,"
   ]
  },
  {
   "cell_type": "markdown",
   "id": "e28aed4c-86ac-4a29-911e-d4770262f31c",
   "metadata": {},
   "source": [
    "# COMPARE MODELS\" by finfinf f1 scores againe using f1_score \"macro\" and f1_score \"weighted\"."
   ]
  },
  {
   "cell_type": "code",
   "execution_count": 71,
   "id": "e37a857a-9b28-4ce2-a9f8-b1f588fb2c49",
   "metadata": {},
   "outputs": [
    {
     "name": "stdout",
     "output_type": "stream",
     "text": [
      "\n",
      " Model Comparison Based on F1 Scores:\n",
      "              Model  F1 Macro  F1 Weighted\n",
      "Logistic Regression  0.971863     0.973621\n",
      "      Random Forest  0.962302     0.964738\n",
      "                SVM  0.953534     0.956237\n",
      "      Decision Tree  0.943990     0.947368\n",
      "                KNN  0.943990     0.947368\n"
     ]
    }
   ],
   "source": [
    "from sklearn.metrics import f1_score\n",
    "import pandas as pd\n",
    "\n",
    "f1_scores = {\n",
    "    'Model': ['Logistic Regression', 'Decision Tree', 'KNN', 'SVM', 'Random Forest'],\n",
    "    'F1 Macro': [\n",
    "        f1_score(y_test, y_pred_LR, average='macro'),\n",
    "        f1_score(y_test, y_pred_DT, average='macro'),\n",
    "        f1_score(y_test, y_pred_KNN, average='macro'),\n",
    "        f1_score(y_test, y_pred_SVM, average='macro'),\n",
    "        f1_score(y_test, y_pred_RF, average='macro')\n",
    "    ],\n",
    "    'F1 Weighted': [\n",
    "        f1_score(y_test, y_pred_LR, average='weighted'),\n",
    "        f1_score(y_test, y_pred_DT, average='weighted'),\n",
    "        f1_score(y_test, y_pred_KNN, average='weighted'),\n",
    "        f1_score(y_test, y_pred_SVM, average='weighted'),\n",
    "        f1_score(y_test, y_pred_RF, average='weighted')\n",
    "    ]\n",
    "}\n",
    "f1_df = pd.DataFrame(f1_scores)\n",
    "f1_df_sorted = f1_df.sort_values(by='F1 Weighted', ascending=False)\n",
    "\n",
    "print(\"\\n Model Comparison Based on F1 Scores:\")\n",
    "print(f1_df_sorted.to_string(index=False))"
   ]
  },
  {
   "cell_type": "markdown",
   "id": "4979c587-83f9-4115-8333-7b312034e916",
   "metadata": {},
   "source": [
    "# OR simply use alredy calcualted f1 scores"
   ]
  },
  {
   "cell_type": "code",
   "execution_count": 84,
   "id": "72bfb635-3164-4007-9502-328b4cc929a5",
   "metadata": {},
   "outputs": [
    {
     "name": "stdout",
     "output_type": "stream",
     "text": [
      "                 Model  F1 Macro  F1 Weighted\n",
      "0  Logistic Regression  0.971863     0.973621\n",
      "4        Random Forest  0.962302     0.964738\n",
      "3                  SVM  0.953534     0.956237\n",
      "1        Decision Tree  0.943990     0.947368\n",
      "2                  KNN  0.943990     0.947368\n"
     ]
    }
   ],
   "source": [
    "import pandas as pd\n",
    "f1_scores = {\n",
    "    'Model': ['Logistic Regression', 'Decision Tree', 'KNN', 'SVM', 'Random Forest'],\n",
    "    'F1 Macro': [ f1_score(y_test, y_pred_LR, average='macro'), f1_macro_dt, f1_macro_knn, f1_macro_svm, f1_macro_rf],\n",
    "    'F1 Weighted': [f1_score(y_test, y_pred_LR, average='weighted'), f1_weighted_dt, f1_weighted_knn, f1_weighted_svm, f1_weighted_rf]\n",
    "}\n",
    "f1_df = pd.DataFrame(f1_scores)\n",
    "f1_df_sorted = f1_df.sort_values(by='F1 Weighted', ascending=False)\n",
    "print(f1_df_sorted)"
   ]
  },
  {
   "cell_type": "markdown",
   "id": "04419013-4190-4c52-8265-359315b468ca",
   "metadata": {},
   "source": [
    "Logistic Regression      : is the best-performing model for this dataset based on F1 macro and weighted scores, suggesting it's the most reliable for balanced class performance and generalization.\n",
    "Random Forest            :Slightly behind Logistic Regression in both macro and weighted scores, but still a strong and robust model, especially if interpretability is less of a concern.\n",
    "Decision Tree and KNN    :Both have identical F1 scores and are the least effective models in this comparison.\n",
    "May be more prone to overfitting or underfitting, depending on data distribution."
   ]
  }
 ],
 "metadata": {
  "kernelspec": {
   "display_name": "Python 3 (ipykernel)",
   "language": "python",
   "name": "python3"
  },
  "language_info": {
   "codemirror_mode": {
    "name": "ipython",
    "version": 3
   },
   "file_extension": ".py",
   "mimetype": "text/x-python",
   "name": "python",
   "nbconvert_exporter": "python",
   "pygments_lexer": "ipython3",
   "version": "3.12.3"
  }
 },
 "nbformat": 4,
 "nbformat_minor": 5
}
